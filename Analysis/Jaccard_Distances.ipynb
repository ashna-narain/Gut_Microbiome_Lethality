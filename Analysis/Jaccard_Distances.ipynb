{
 "cells": [
  {
   "cell_type": "code",
   "execution_count": 5,
   "id": "2fbbc6b0",
   "metadata": {},
   "outputs": [],
   "source": [
    "from cobra import Model\n",
    "from cobra.io import read_sbml_model\n",
    "from typing import Set\n",
    "import pandas as pd"
   ]
  },
  {
   "cell_type": "code",
   "execution_count": 2,
   "id": "b9b0bf03",
   "metadata": {},
   "outputs": [],
   "source": [
    "def jaccard_distance(set1: Set[str], set2: Set[str]) -> float:\n",
    "    \"\"\"Calculate Jaccard distance between two sets.\"\"\"\n",
    "    intersection = len(set1 & set2)\n",
    "    union = len(set1 | set2)\n",
    "    return 1 - (intersection / union) if union != 0 else 1.0\n",
    "\n",
    "def compare_gems(model1: Model, model2: Model):\n",
    "\n",
    "    reactions_1 = {rxn.id for rxn in model1.reactions}\n",
    "    reactions_2 = {rxn.id for rxn in model2.reactions}\n",
    "    \n",
    "    # metabolites_1 = {met.id for met in model1.metabolites}\n",
    "    # metabolites_2 = {met.id for met in model2.metabolites}\n",
    "    \n",
    "    # genes_1 = {gene.id for gene in model1.genes}\n",
    "    # genes_2 = {gene.id for gene in model2.genes}\n",
    "    \n",
    "    return (jaccard_distance(reactions_1, reactions_2))\n",
    "\n",
    "# model1 = read_sbml_model(\"model1.xml\")\n",
    "# model2 = read_sbml_model(\"model2.xml\")\n",
    "# distances = compare_gems(model1, model2)\n",
    "# print(distances)"
   ]
  },
  {
   "cell_type": "code",
   "execution_count": 3,
   "id": "19156ee4",
   "metadata": {},
   "outputs": [],
   "source": [
    "org_list_file = open('/data/ashna/Gut_Microbiome/Species.csv')\n",
    "org_names = [(i.split())[0] for i in org_list_file.readlines()]"
   ]
  },
  {
   "cell_type": "code",
   "execution_count": 6,
   "id": "53e91e58",
   "metadata": {},
   "outputs": [],
   "source": [
    "distance_matrix = pd.DataFrame(index=org_names, columns=org_names)"
   ]
  },
  {
   "cell_type": "code",
   "execution_count": 7,
   "id": "2cac735f",
   "metadata": {},
   "outputs": [
    {
     "name": "stdout",
     "output_type": "stream",
     "text": [
      "Set parameter Username\n"
     ]
    },
    {
     "ename": "CobraSBMLError",
     "evalue": "Something went wrong reading the SBML model. Most likely the SBML model is not valid. Please check that your model is valid using the `cobra.io.sbml.validate_sbml_model` function or via the online validator at https://sbml.org/validator_servlet/ .\n\t`(model, errors) = validate_sbml_model(filename)`\nIf the model is valid and cannot be read please open an issue at https://github.com/opencobra/cobrapy/issues .",
     "output_type": "error",
     "traceback": [
      "\u001b[0;31m---------------------------------------------------------------------------\u001b[0m",
      "\u001b[0;31mGurobiError\u001b[0m                               Traceback (most recent call last)",
      "File \u001b[0;32m/data/ashna/anaconda3/envs/cobraenv/lib/python3.11/site-packages/cobra/io/sbml.py:458\u001b[0m, in \u001b[0;36mread_sbml_model\u001b[0;34m(filename, number, f_replace, **kwargs)\u001b[0m\n\u001b[1;32m    457\u001b[0m     doc \u001b[38;5;241m=\u001b[39m _get_doc_from_filename(filename)\n\u001b[0;32m--> 458\u001b[0m     \u001b[38;5;28;01mreturn\u001b[39;00m _sbml_to_model(doc, number\u001b[38;5;241m=\u001b[39mnumber, f_replace\u001b[38;5;241m=\u001b[39mf_replace, \u001b[38;5;241m*\u001b[39m\u001b[38;5;241m*\u001b[39mkwargs)\n\u001b[1;32m    459\u001b[0m \u001b[38;5;28;01mexcept\u001b[39;00m \u001b[38;5;167;01mIOError\u001b[39;00m \u001b[38;5;28;01mas\u001b[39;00m e:\n",
      "File \u001b[0;32m/data/ashna/anaconda3/envs/cobraenv/lib/python3.11/site-packages/cobra/io/sbml.py:592\u001b[0m, in \u001b[0;36m_sbml_to_model\u001b[0;34m(doc, number, f_replace, set_missing_bounds, **kwargs)\u001b[0m\n\u001b[1;32m    591\u001b[0m     LOGGER\u001b[38;5;241m.\u001b[39merror(\u001b[38;5;124mf\u001b[39m\u001b[38;5;124m\"\u001b[39m\u001b[38;5;124m'\u001b[39m\u001b[38;5;132;01m{\u001b[39;00mmodel_id\u001b[38;5;132;01m}\u001b[39;00m\u001b[38;5;124m'\u001b[39m\u001b[38;5;124m is not a valid SBML \u001b[39m\u001b[38;5;124m'\u001b[39m\u001b[38;5;124mSId\u001b[39m\u001b[38;5;124m'\u001b[39m\u001b[38;5;124m.\u001b[39m\u001b[38;5;124m\"\u001b[39m)\n\u001b[0;32m--> 592\u001b[0m cobra_model \u001b[38;5;241m=\u001b[39m Model(model_id)\n\u001b[1;32m    593\u001b[0m cobra_model\u001b[38;5;241m.\u001b[39mname \u001b[38;5;241m=\u001b[39m model\u001b[38;5;241m.\u001b[39mgetName() \u001b[38;5;129;01mor\u001b[39;00m \u001b[38;5;28;01mNone\u001b[39;00m\n",
      "File \u001b[0;32m/data/ashna/anaconda3/envs/cobraenv/lib/python3.11/site-packages/cobra/core/model.py:98\u001b[0m, in \u001b[0;36mModel.__init__\u001b[0;34m(self, id_or_model, name)\u001b[0m\n\u001b[1;32m     97\u001b[0m interface \u001b[38;5;241m=\u001b[39m check_solver(configuration\u001b[38;5;241m.\u001b[39msolver)\n\u001b[0;32m---> 98\u001b[0m \u001b[38;5;28mself\u001b[39m\u001b[38;5;241m.\u001b[39m_solver \u001b[38;5;241m=\u001b[39m interface\u001b[38;5;241m.\u001b[39mModel()\n\u001b[1;32m     99\u001b[0m \u001b[38;5;28mself\u001b[39m\u001b[38;5;241m.\u001b[39m_solver\u001b[38;5;241m.\u001b[39mobjective \u001b[38;5;241m=\u001b[39m interface\u001b[38;5;241m.\u001b[39mObjective(Zero)\n",
      "File \u001b[0;32m/data/ashna/anaconda3/envs/cobraenv/lib/python3.11/site-packages/optlang/interface.py:1190\u001b[0m, in \u001b[0;36mModel.__init__\u001b[0;34m(self, name, objective, variables, constraints, problem, *args, **kwargs)\u001b[0m\n\u001b[1;32m   1189\u001b[0m \u001b[38;5;28;01melse\u001b[39;00m:\n\u001b[0;32m-> 1190\u001b[0m     \u001b[38;5;28mself\u001b[39m\u001b[38;5;241m.\u001b[39m_initialize_problem()\n\u001b[1;32m   1191\u001b[0m     \u001b[38;5;28;01mif\u001b[39;00m variables \u001b[38;5;129;01mis\u001b[39;00m \u001b[38;5;129;01mnot\u001b[39;00m \u001b[38;5;28;01mNone\u001b[39;00m:\n",
      "File \u001b[0;32m/data/ashna/anaconda3/envs/cobraenv/lib/python3.11/site-packages/optlang/gurobi_interface.py:531\u001b[0m, in \u001b[0;36mModel._initialize_problem\u001b[0;34m(self)\u001b[0m\n\u001b[1;32m    530\u001b[0m \u001b[38;5;28;01mdef\u001b[39;00m \u001b[38;5;21m_initialize_problem\u001b[39m(\u001b[38;5;28mself\u001b[39m):\n\u001b[0;32m--> 531\u001b[0m     \u001b[38;5;28mself\u001b[39m\u001b[38;5;241m.\u001b[39mproblem \u001b[38;5;241m=\u001b[39m gurobipy\u001b[38;5;241m.\u001b[39mModel()\n\u001b[1;32m    532\u001b[0m     \u001b[38;5;28mself\u001b[39m\u001b[38;5;241m.\u001b[39mproblem\u001b[38;5;241m.\u001b[39mparams\u001b[38;5;241m.\u001b[39mOutputFlag \u001b[38;5;241m=\u001b[39m \u001b[38;5;241m0\u001b[39m\n",
      "File \u001b[0;32msrc/gurobipy/model.pxi:80\u001b[0m, in \u001b[0;36mgurobipy.Model.__init__\u001b[0;34m()\u001b[0m\n",
      "File \u001b[0;32msrc/gurobipy/gurobi.pxi:60\u001b[0m, in \u001b[0;36mgurobipy.gurobi._getdefaultenv\u001b[0;34m()\u001b[0m\n",
      "File \u001b[0;32msrc/gurobipy/env.pxi:70\u001b[0m, in \u001b[0;36mgurobipy.Env.__init__\u001b[0;34m()\u001b[0m\n",
      "\u001b[0;31mGurobiError\u001b[0m: License expired 2021-03-02",
      "\nThe above exception was the direct cause of the following exception:\n",
      "\u001b[0;31mCobraSBMLError\u001b[0m                            Traceback (most recent call last)",
      "Cell \u001b[0;32mIn[7], line 3\u001b[0m\n\u001b[1;32m      1\u001b[0m \u001b[38;5;28;01mfor\u001b[39;00m i \u001b[38;5;129;01min\u001b[39;00m \u001b[38;5;28mrange\u001b[39m(\u001b[38;5;28mlen\u001b[39m(org_names)):\n\u001b[1;32m      2\u001b[0m     file_1 \u001b[38;5;241m=\u001b[39m \u001b[38;5;124mf\u001b[39m\u001b[38;5;124m'\u001b[39m\u001b[38;5;124m/data/ashna/Gut_Microbiome/AGORA2_Models/\u001b[39m\u001b[38;5;132;01m{\u001b[39;00morg_names[i]\u001b[38;5;132;01m}\u001b[39;00m\u001b[38;5;124m.xml\u001b[39m\u001b[38;5;124m'\u001b[39m\n\u001b[0;32m----> 3\u001b[0m     model_1 \u001b[38;5;241m=\u001b[39m read_sbml_model(file_1)\n\u001b[1;32m      5\u001b[0m     \u001b[38;5;28;01mfor\u001b[39;00m j \u001b[38;5;129;01min\u001b[39;00m \u001b[38;5;28mrange\u001b[39m(i\u001b[38;5;241m+\u001b[39m\u001b[38;5;241m1\u001b[39m, \u001b[38;5;28mlen\u001b[39m(org_names)):\n\u001b[1;32m      6\u001b[0m         file_2 \u001b[38;5;241m=\u001b[39m \u001b[38;5;124mf\u001b[39m\u001b[38;5;124m'\u001b[39m\u001b[38;5;124m/data/ashna/Gut_Microbiome/AGORA2_Models/\u001b[39m\u001b[38;5;132;01m{\u001b[39;00morg_names[\u001b[38;5;241m2\u001b[39m]\u001b[38;5;132;01m}\u001b[39;00m\u001b[38;5;124m.xml\u001b[39m\u001b[38;5;124m'\u001b[39m\n",
      "File \u001b[0;32m/data/ashna/anaconda3/envs/cobraenv/lib/python3.11/site-packages/cobra/io/sbml.py:472\u001b[0m, in \u001b[0;36mread_sbml_model\u001b[0;34m(filename, number, f_replace, **kwargs)\u001b[0m\n\u001b[1;32m    462\u001b[0m \u001b[38;5;28;01mexcept\u001b[39;00m \u001b[38;5;167;01mException\u001b[39;00m \u001b[38;5;28;01mas\u001b[39;00m original_error:\n\u001b[1;32m    463\u001b[0m     cobra_error \u001b[38;5;241m=\u001b[39m CobraSBMLError(\n\u001b[1;32m    464\u001b[0m         \u001b[38;5;124m\"\u001b[39m\u001b[38;5;124mSomething went wrong reading the SBML model. Most likely the SBML\u001b[39m\u001b[38;5;124m\"\u001b[39m\n\u001b[1;32m    465\u001b[0m         \u001b[38;5;124m\"\u001b[39m\u001b[38;5;124m model is not valid. Please check that your model is valid using \u001b[39m\u001b[38;5;124m\"\u001b[39m\n\u001b[0;32m   (...)\u001b[0m\n\u001b[1;32m    470\u001b[0m         \u001b[38;5;124m\"\u001b[39m\u001b[38;5;124mat https://github.com/opencobra/cobrapy/issues .\u001b[39m\u001b[38;5;124m\"\u001b[39m\n\u001b[1;32m    471\u001b[0m     )\n\u001b[0;32m--> 472\u001b[0m     \u001b[38;5;28;01mraise\u001b[39;00m cobra_error \u001b[38;5;28;01mfrom\u001b[39;00m \u001b[38;5;21;01moriginal_error\u001b[39;00m\n",
      "\u001b[0;31mCobraSBMLError\u001b[0m: Something went wrong reading the SBML model. Most likely the SBML model is not valid. Please check that your model is valid using the `cobra.io.sbml.validate_sbml_model` function or via the online validator at https://sbml.org/validator_servlet/ .\n\t`(model, errors) = validate_sbml_model(filename)`\nIf the model is valid and cannot be read please open an issue at https://github.com/opencobra/cobrapy/issues ."
     ]
    }
   ],
   "source": [
    "for i in range(len(org_names)):\n",
    "    file_1 = f'/data/ashna/Gut_Microbiome/AGORA2_Models/{org_names[i]}.xml'\n",
    "    model_1 = read_sbml_model(file_1)\n",
    "    \n",
    "    for j in range(i+1, len(org_names)):\n",
    "        file_2 = f'/data/ashna/Gut_Microbiome/AGORA2_Models/{org_names[2]}.xml'\n",
    "        model_2 = read_sbml_model(file_2)\n",
    "        \n",
    "        j_d = compare_gems(model_1, model_2)\n",
    "        print(org_names[i], org_names[j], j_d)\n",
    "        \n",
    "        distance_matrix[org_names[i]][org_names[j]] = j_d"
   ]
  },
  {
   "cell_type": "code",
   "execution_count": null,
   "id": "4d097a8c",
   "metadata": {},
   "outputs": [],
   "source": []
  }
 ],
 "metadata": {
  "kernelspec": {
   "display_name": "Python 3 (ipykernel)",
   "language": "python",
   "name": "python3"
  },
  "language_info": {
   "codemirror_mode": {
    "name": "ipython",
    "version": 3
   },
   "file_extension": ".py",
   "mimetype": "text/x-python",
   "name": "python",
   "nbconvert_exporter": "python",
   "pygments_lexer": "ipython3",
   "version": "3.11.4"
  }
 },
 "nbformat": 4,
 "nbformat_minor": 5
}
